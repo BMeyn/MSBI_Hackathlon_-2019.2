{
  "cells": [
    {
      "metadata": {},
      "cell_type": "markdown",
      "source": "![title](https://res.cloudinary.com/devpost/image/fetch/s--yMkjCArX--/c_limit,f_auto,fl_lossy,q_auto:eco,w_900/https://i.ibb.co/DG3KVZd/Hackathon-graphic.png)"
    },
    {
      "metadata": {},
      "cell_type": "markdown",
      "source": "# Microsoft Azure AI Services"
    },
    {
      "metadata": {},
      "cell_type": "markdown",
      "source": "As you probably already recognized this course focus on the Azure AI Services. The Picture above show's the different services and give use some Information when we should use witch of the Azure AI Services.\n\nRight on the top we have the Azure Cognitive Services. This Services are ready to use Machine Learning Models witch are operationalized as an Web service. So you can implement them into your application by requesting a prediction for your available data and getting back the prediction of the model. All the Cognitive Services are provided with different API's depending on witch mission field of the Machine Learning Model is needed.\n\nThe more flexible options are provided with the Azure Machine Learning Services (AMLS). With the AMLS you can create your own Machine Learning Models. Microsoft supports the process over the complete End-to-end lifecycle. Depending on your knowledge about Machine Learning Algorithms and the project needs you can select between different options to create your Machine Learning Model.\n\nWith this Introduction you will get a quick overview for the AI Services and specifically the Azure Cognitive Services. In the next Notebook we will take a look on how to create and use the Services. But for now let's take a look on what we can do with them."
    },
    {
      "metadata": {},
      "cell_type": "markdown",
      "source": "**************"
    },
    {
      "metadata": {},
      "cell_type": "markdown",
      "source": "![title](https://www.drupal.org/files/project-images/cognitive.gif)"
    },
    {
      "metadata": {},
      "cell_type": "markdown",
      "source": "## Azure Cognitive Services"
    },
    {
      "metadata": {},
      "cell_type": "markdown",
      "source": "Microsoft categories his Cognitive Services into five different mission fields witch are provided with different API's. One Cognitive Service again have different functions and use cases.\nI want to discuss them in the following subsections as short as possible"
    },
    {
      "metadata": {},
      "cell_type": "markdown",
      "source": "![TITLE](data:image/png;base64,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)"
    },
    {
      "metadata": {},
      "cell_type": "markdown",
      "source": "### Azure Vision Service"
    },
    {
      "metadata": {},
      "cell_type": "markdown",
      "source": "With the Azure Vision Services (AVS) you can extract informations from images or classify different image classes. You can also get a description of the image or process the images.\nFollowing is a list of all the current actions you can take with the Azure Vision Service (AVS). You can find a detailed description for each action in the  [Azure Vision Service documentation](https://docs.microsoft.com/de-de/azure/cognitive-services/computer-vision/home).\n\nPossible Vision Service Actions: \n- Tag visual features\n- Detect objects\n- Detect brands\n- Categorize an image\n- Describe an image\n- Detect faces\n- Detect image types\n- Detect domain-specific content\n- Detect the color scheme\n- Generate a thumbnail\n- Get the area of interest\n- Extract text from images\n\nYou can test some Azure Vision Service under the following [LINK](https://azure.microsoft.com/de-de/services/cognitive-services/computer-vision/)\n"
    },
    {
      "metadata": {},
      "cell_type": "markdown",
      "source": "![title](data:image/png;base64,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)"
    },
    {
      "metadata": {},
      "cell_type": "markdown",
      "source": "### Azure Speech Service"
    },
    {
      "metadata": {
        "trusted": true
      },
      "cell_type": "code",
      "source": "",
      "execution_count": null,
      "outputs": []
    },
    {
      "metadata": {},
      "cell_type": "markdown",
      "source": "[Language Support](https://docs.microsoft.com/en-us/azure/cognitive-services/language-support)"
    },
    {
      "metadata": {
        "trusted": true
      },
      "cell_type": "code",
      "source": "",
      "execution_count": null,
      "outputs": []
    }
  ],
  "metadata": {
    "kernelspec": {
      "name": "python36",
      "display_name": "Python 3.6",
      "language": "python"
    },
    "varInspector": {
      "window_display": false,
      "cols": {
        "lenName": 16,
        "lenType": 16,
        "lenVar": 40
      },
      "kernels_config": {
        "python": {
          "library": "var_list.py",
          "delete_cmd_prefix": "del ",
          "delete_cmd_postfix": "",
          "varRefreshCmd": "print(var_dic_list())"
        },
        "r": {
          "library": "var_list.r",
          "delete_cmd_prefix": "rm(",
          "delete_cmd_postfix": ") ",
          "varRefreshCmd": "cat(var_dic_list()) "
        }
      },
      "types_to_exclude": [
        "module",
        "function",
        "builtin_function_or_method",
        "instance",
        "_Feature"
      ]
    },
    "nbTranslate": {
      "hotkey": "alt-t",
      "sourceLang": "en",
      "targetLang": "fr",
      "displayLangs": [
        "*"
      ],
      "langInMainMenu": true,
      "useGoogleTranslate": true
    },
    "language_info": {
      "mimetype": "text/x-python",
      "nbconvert_exporter": "python",
      "name": "python",
      "pygments_lexer": "ipython3",
      "version": "3.6.6",
      "file_extension": ".py",
      "codemirror_mode": {
        "version": 3,
        "name": "ipython"
      }
    }
  },
  "nbformat": 4,
  "nbformat_minor": 1
}