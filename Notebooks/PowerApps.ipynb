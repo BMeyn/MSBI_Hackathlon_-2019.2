{
  "cells": [
    {
      "metadata": {
        "collapsed": true
      },
      "cell_type": "markdown",
      "source": "![title](data:image/png;base64,iVBORw0KGgoAAAANSUhEUgAAAQMAAADDCAMAAACxkIT5AAAAwFBMVEX///9cAFz+/v5ZAFn7+fvh0OHCoMJ3L3eIS4hfBl9UAFTy6/LVv9V6LnrLr8trGmu1jLX38vdgAGDm2Obp3en59fnu5e5SAFLHqcfaxdrk1eSQWZCMUozt4u3OtM5mEWZ8N3ymd6aZZZmBQYGyhrK3kbepfqmYYpiLSYuEPISeZ56wg7CSWZKfbZ9lFWV0I3S8mbyAN4BtJG1+PX5wF3CARYB3KHd2O3ZyL3JqB2qFTYWTVZOjbaNsKGytiq2dcJ1Z/9C4AAAQPElEQVR4nO1dCXuqOBcGggtqXUAdsW7Uuty2Wmt7O9Np5/b//6vvnCQoQgJYN/yenGee22kFSV7O8ubkJNE0JUqUKFGiRIkSJUqUKFGiRIkSJUqUKFGiRImSk4uRVTHxn/P0//RPOUBO3kAGt2aYWRVsHP3vdAjAQ0yzUXYH+WxKZ5Art0xqFCfDQNPKbufPXfG1kE0ZjXvff6o5UzuRKqCONSuTXq1UIhmWEinM8m75FCigG2hUFmvb1q2Mi24PR/XcCWIEmkH976WOYukZFta4dbHTOLImgJPRcjOLXLh/6YWQ9bQNzT4mBJo5+NSJxTXAsrKpCtamYZZO7K+cdkRzMDSz+k4CNkCyqREk0C5LL81z1IaPA4FhVgubLwenuPzvv3ExezL+57/1MojJp3ssnwAx0e35zga87rJXr1ZyWRR30JmOlzZrKvxjec0jgWBo/TvLNwSy9jq5xjG+9jTSruRnNvHNoTZpHAUDQ2utar6dDX+v2lqGR47Y4O60YHMQyLhiHsMlmFru3dcCa+a22Ag1s2KaWrk63jivWVk7OEAiN3pkzgBcwVPOOGa8OYEYdFg7GPmR4rnTOlgR4Curb9wSAIJTDUaOKdDCLQj6uHmwIkCPvRIzBQLx1jwi8zqZIKXrrAnX3cGhGACm3TlnR/bqCpSAiWE0PD9AeuUDmRKY14QGBSCfD/0rwkBzx8yCyUvlwGabhrnwudHBSnVGgU4/+l7sUPU1tHKRsMD44gAix2rjqQV63XljGJQeD8bAGTEMhmBXVwMB9jr3iX4Mhk4P5kEg4FChQDEgtYFxTRiAGd+XKAbks30gBmaVBRnyfnicPauAMbCYjiH9AAzg1vKkxr7p5gik85xiapUSzaiQl8GhGNSvHoP3jsLgpqowUBgoDBQGCgOFgcJAYYCiMFAYoCgMFAYoCgOFAYrCQGGAojBQGKAoDBQGKAoDhQGKwuD/BAODrpb5ceMzhgHvzX7t8K/+afMzhcH2+XuCUG632/3WT9ufJQywSqzcd5xm2dyjqs/UjNzE87xFp/zDDmQIA7r8pT7799/bqbvHqgpDy/Vqw9pwuK43flb2kB0MDFNr/inWsKq+9nuSupIFIWBVx6Q2+ZkmZAYDhMAbElxdAV8x9NJVhGAhTY8VBFoWWQMIPwgPWcEAntz/tnW2uMRitYKpmtN90u3NipH16idLk7KCgamVN4X0VLGJl1w9DJ87PT0gZDj5Qc1xNjAAQ2h/BjuD37NoJyg2rh4r7q6dIx/3jb1fQCYwgJvbM7LTGd0iy2l8tSvEz9ytHVo+CJqwNwhZwAAhWESWfnEQ5HdpWm4Wvgmebk/29QkZwADeZ39hR3uj68NpX1rpiBHhSbSIlHygJuzTk8tjAHc2v4eiFbGoCdIQaWjdnhA4HULkfmTp4hggL/geShZBkqUkROJCgZ5sKTHlCXv05dIYgCGgFkjE0m0hCNQQiAQCDkJ6c7gwBrgG6jvs23dAII9CF+cEqVFUaisz/eDzwhgANfqU94S9VC9s3fBbtxe/hBgdY+reXBQDpEZPCRCgObR3htIYFHsxusNAGNZT84RLYsB5QcLC+AhZMgx3lgQBJ0vp+nNBDCgECT3h3blvbxNmOLhKs5ae2NXMY4DUSB4RgmLpw/sNWYKfgzFJ0gK86a/7lKtSLoYBpUbLFJ3RmTn4IRIxeE2xx4illx5TZhgvhQG4w76UGkWFDD1OgKkepMPgPtsYwOd9T0x1JT3SH5kmIAajNLZglR4zbQvwnEYqd7gDQoPdargJ5IBLaaWl40mXwcDUGknUSCBemfIEw9gu047BzPZXGCZ26hIY4LWzvfdOgujARpG4gm6ccLtFah4lFWzPuvh+XQADuLTvyahRTM8gOtQpTzC11nbrBrGQGvAqbZt8iO3Z+TGQp0yY2DqRDoqH9aAmSMGCMdO0yRpl9ruO040fSp8dA6oFcmpkF4rjtexjS18iYzRw14LqSOoYwRCmTbrbh2ZWFr3bp14+Nr12fgy0tienRi95x3FyK1n/kCzhKAB7N3iWXjRELaDqUulZtm3r/6zixg5nxgBHip6EGsG9owG9sTEQZgpRiI1DabqVSfVG5FTgL7bXpyanaZWizqbh1quY93JeDODPZU8+5htVwd1RN96dl8RXwR/r1LpxE4+bKJg4UbdoM5S0ypzQRIuFILSkmaWzYoAzyzM5vwEt4GMCMJi5VNM3ZAl8gugKln1DCF62QJIPAEFiD2fFIIYaAacZDzZbvOKA6lNsDqjr07LBfcJr6CIgEThbS0FACLbCUu6XxgDfriexc/jjGHzBRlv5BIr42hBPsIIf+dQI3GFxs4EhA6E2McUgnA8DDIpTiRbATQiBsXN1984Sxw/o6Z+2RpOmu2TJYryAR4SwipAPSYg8GwZIjWJ4wSi8dwamz7f7z4URG/7ZkKVX33FwasR5QU9wV20lnIE6FwZUC5bRdnEpVM1w66AjovlE3t3lfdknS350oLzA2EAgSr0XVqKp+XNhYFJqJIVgIBjqw2uW+gScgTI5WaoCWcKtQYntG4IB1EhoRqQgIkvnwSCeGhHkBWIPIp1Ngh7TyRe62VeBbuOsLwLUSAYdghB+1FkwwNkkTz4mlEBAoXPmJfFNEEwZWQLuk5+/39y8fQWokXQnW1LLR1TuTBi0nuTU6HUQV43YnsvuA02IVq/B7+6NBDZ+16oVet45MMCUiWSwjLygGpP2M2RVBvRvQ06WuPCgOC7FpiHIW5gnnB4DVNeVfIzwOpATeQ6CIMwxFMiaWTc/4IDzgqSZK/K22t019CwYVMKUdtuewiBpF1PDqIxkWkR+54J6DR4yQo1EDx3md5IqZ8BAM+syrqPb90aK/OtkLSWMwUlFgMO5S5GwtwD5s2KAw58HKd8bJ2/tjNbwryzpMpz1t89CNSimwUBf5s+NgSsxaGAGT/3k3DeAeCvDwJ43rwMDWcMsvTRLsXunGYOBPnKuA4PuTGwLVrqN6gzNkdqCXQzpQULO/TIYIEGS+kTyVtdS+MSVxCfycv1tG4zcUyqfuK6eGQNDG8j6oJMXN+l8IFPLyabWLDLmZwYwkkyH0omxEcaXE0lsfD8IA3h+YyXDwN9+WyS3buzsMHzkfEvpQa1O1WDDE6ERndd4BARVOqY24HtIHrixLr4Dvpfocy6UDtGasrBtJYCAKWbJpBTcupw6wQ3NKVtuxUy+6GylR3jNj6Hlj7KPJh2s8LqAt/xupgLzJ08StgzDvxgQsFJDYuE4XPAcNkgwy81+v7kZSr/HgBAxBKqnC76n7OeBm0wbWpvXCdlf7TDQWjNamM7Ftm5dWWU2nucg1yB2bASmTLzZ3d0tJs9pUqUjm4HSqSGEBptIYOYcg6/DIAC1bfW463vrhoZBCMKdNE1s91xhdMD0wZ0tzbwsmjxl4s7phNry0WQzzRQEKbkOj7ehpXn+lX/dH2QKdJ9tVl0DeOa1aIa0ObMlrF/Xi65gehyrue/E94BV6zM/ZbLZKny4mYHKF4QgWP4lu+/H/OJXf+QPxABj4A3TKfIrMgxAn7CQvVOrNHe1sBpy3RELsRc8say5v/hskhUAoSMMp2RZj5RpAYz5Z7ZNvP556Ok8dCKNN6fkCdLE4BMsGYMpzXNRzZEOAnE2idUXGIYbSLYhCKyLpiBE4txMZILBMM1+j589oO9T6C0FYeI3+nllGmEQoFMLaS6F9ELRAQ1Bci3OJjl8HgHrszbJQzxZhqfcW53INByxo8saMNk7XfILIaYffAYFxPJPvt6SjKLZcvjNkZUn+zwhCJicGjFeQLNGtzs0nC3z5GQpxBOAUEXy6gjWqsZdznB6jD0LDLPjv2gbT4LTdpfxo0+4lap3kCeYaAiyCykvoBHBcKPr2viCXwyRhcBRXJxT7rQGk2/tiX+kFhkdRpC4YCrc76NdyLdNY5vy5CA0pTOpto08gV+utSVZWDxvEKmRD0F4NglcRd0nS/ktWaLUyGeU2yRsy/Hnvix6WsARtq5A5dyCv55Vtk/0LwArlxIYm5ElIzaG6MTjs0maK8wdgmP0Z6C2ZClIjbYNMlfF5Wai7tY5zmkBmPvzzQviV2GW3xzUtSkscGSLDyDmY3BC6T7IppzpOSeMG7lzcS0OGWKh8gYEy7KGEBE2Nd9+P9uV+qePkUUd2BEsgXW0/OjPqUFrSh/zrwmeIFv1iTgSnxiyNO90m81cvijUAerbH/CsRSPIC6IXWWw42UKeQE8t3QZFfAkdbFF99gvPFLR4Swudo5zSxVHoT2tbNSakVPoL5GNDmtAnLGRBTy/Z84fZfFiS8QjLNwTDLUogoIGDaT6GyH//Bqm3toagrXRsUakUXGH+T3z13r4YUBBCBTL685Y4Up9gyzpJbFv6GfothxfaJNRtMw+IMLT5kNJvH2Cw3HUjYAiFY0LAHFq9trFUfnbsTSDuULIk5wmBH6HPyHJLjW4TynrZMs/gMzf/k3+2eav4s8jo2Ce6ok/ojPUAfcPUUnAAYbDonzQdJILA4IZwK/GZQRAaLMVEz7EOvCMtXwtcB9Zq3YmqHw4EAUPk3Ygea+sDfrM7iAKfIEuqyDrlUyN0q1FqJAABo6GwcYjBVhFqY5aMOioEGh2IlCuzN3sT48l7CANGlvaThcNTJs4ido2rD5rdEXj6HT0A5/M+zWGN0tEhoPZglN36/APcL9aIlJ5Dg2kcO8jJkqhHpa8m+17NqBywrg194pAe8g0Ne/vMOw3t0LGiFAT82kZusPIenn69vLw8OSEM4shStD9w2azPvpWta0uFmmhdG2Y5itCg+ezrMT9wTC2Qkz0+CvzswnLTHVQqbuRc15gsUbQ/xP7q82Oo91jXJsGg7VYqg1ybteiArebSAhH/mSPLEIRlyKgRuy3tGs9S0hrPU/eePSQwbBS6p1TmgNSou0lQws/uXTqfmBf3cudM19MCsPtA8WfUMSZGuaXXDWKIxSZp1nzX2wkYnKjL+wnVhASyBFrwvQMBKzqSVrb4wPFpuCsQACGWLMEn9sIJvTNalJ7AlWv1w47gO6OgY7yN5QmlReQQcoMWGsTdRex6OSvKnizQzu6MyFwcVqo0o9Mv6GIrsvQB5cn312IIVHBCTZJUwTLsB+FR9CyHIp1QY0XtF+jMT4VNpojLzC0YI8jWxGiyuhuyFG+lk2WhZEmYOBl+O1Img+ZQFLhTNIQf7il6QTHEIZIFRalnoz4hmli2WCX3tWHANCG6dyDlBbGLhgVkSTSzfB2C03Q7tBmnUhbdhIR/FATgBdfmDreC0SFAlvDng5PEZw22gm/XF1wNNYoKpoeCZInxgsS7DMoTNoZgT6+KF4SFkiWIhlQImTW1NINbDJGBGozrokZRQZ+weMd16kR/94TUSHgTgEAI5wVX6wt8geaX83e/X8e/7zrpa+QoWWI1WdOro0YCAR/X6FZcp2yEa7rib6p4t7NZ74c7jWdM/ILbvTIcWKPZdxI3PbkeYaXXew57IxNq1y4/GfZnKTd2OVEQKFGiRIkSJUqUKFGiRIkSJUqUKMmU/A+u4FX7l8pyAwAAAABJRU5ErkJggg==)"
    },
    {
      "metadata": {},
      "cell_type": "markdown",
      "source": "# <font color='#0066cc'>Erstellen einer Power App mit Azure BlobStorage Verbindung</font>\n\n***********************"
    },
    {
      "metadata": {},
      "cell_type": "markdown",
      "source": "In diesem Notebook werden wir zunächst die Power App erstellen für den Upload der Bilder erstellen. Wir konzentrieren uns zunächst nur um die Funktionalität für den Bilder Upload.\n\n[Melde dich zunächst unter Power Apps mit deinem Microsoft Account an.](https://powerapps.microsoft.com/de-de/)\n\nDie folgenden Schritte sind nötig, um einen Image Upload in einen BlobStorage zu ermöglichen:\n\n1. Verbinden von PowerApps mit dem erstellten Azure BlobStorage\n2. Konfiguration der Zugriffsrechte des BlobStorages\n3. Erstellen der Bedienoberfläche in PowerApps\n4. Verbinden der Bedienoberfläche für den Image Upload\n5. Herunterladen der Handy App und teten des Image Uploads\n\nFür weitere Informationen sind hier noch einige Link zu PowerApps\n\n- [Was ist Power Apps?](https://docs.microsoft.com/de-de/powerapps/powerapps-overview)\n- [Erstellen einer APP](https://docs.microsoft.com/de-de/powerapps/maker/)\n- [Was sind Canvas-Apps in PowerApps?](https://docs.microsoft.com/de-de/powerapps/maker/canvas-apps/getting-started)\n- [Freigeben einer Canvas-App in PowerApps](https://docs.microsoft.com/de-de/powerapps/maker/canvas-apps/share-app)\n- [Verwenden von Cognitive Services in PowerApps](https://docs.microsoft.com/de-de/powerapps/maker/canvas-apps/cognitive-services-api)\n- [Ausführen einer Canvas-App auf einem mobilen Gerät](https://docs.microsoft.com/de-de/powerapps/user/run-app-client)"
    },
    {
      "metadata": {},
      "cell_type": "markdown",
      "source": "****************************"
    },
    {
      "metadata": {},
      "cell_type": "markdown",
      "source": "## <font color=\"#0066cc\">Verbinden mit dem Azure BlobStorage</font>"
    },
    {
      "metadata": {},
      "cell_type": "markdown",
      "source": "- Erstelle eine leere Canvas App Vorlage\n- Wähle deinen gewünschten App namen und das Format um die App zu stellen"
    },
    {
      "metadata": {},
      "cell_type": "markdown",
      "source": "<img src=\"../media/PowerApp%20Images/Start_Power_APP.gif\" width=\"1000\">"
    },
    {
      "metadata": {},
      "cell_type": "markdown",
      "source": "***"
    },
    {
      "metadata": {},
      "cell_type": "markdown",
      "source": "## <font color=\"#0066cc\">Erstellen der App Bedienfläche</font>\n\nIn diesem Schritt wollen wir einen Button, eine Texteingabe und einen Bildupload zu unserer App hinzufügen."
    },
    {
      "metadata": {},
      "cell_type": "markdown",
      "source": "- Gehe auf den Reiter Einfügen\n- Wähle aus dem oberen Bedienfeld die **Schaltflächen Option** um einen **Button** hinzuzufügen\n- Wähle aus dem oberen Bedienfeld die **Text Option** und füge eine **Texteingabe** hinzu\n- Wähle aus dem oberen Bedienfeld die **Medien Option** und füge eine **Texteingabe** hinzu"
    },
    {
      "metadata": {
        "trusted": true
      },
      "cell_type": "markdown",
      "source": "<img src=\"../media/PowerApp%20Images/Add_elements.gif\" width=\"1000\">"
    },
    {
      "metadata": {},
      "cell_type": "markdown",
      "source": "***"
    },
    {
      "metadata": {},
      "cell_type": "markdown",
      "source": "## <font color=\"#0066cc\">Verbinden der Bedienelemente</font>\n\n- Wähle in der Power App aus dem Linken Rand aus den Möglichkeiten, um eine **neue Datenquelle hinzuzufügen**.\n- In deinem **Azure Portal** findest du in deiner Ressourcen Gruppe deinen **Storage Account**\n- **Öffne den Storage Account** und gehen in dem Menü auf die Option **Acess keys**. Dort findest du die Schlüssel die zu zum verbinden mit dem BlobStorage benötigst\n- Du benötigst den **Storage Account Namen** und den **Zugriffschlüssen**"
    },
    {
      "metadata": {},
      "cell_type": "markdown",
      "source": "<img src=\"../media/PowerApp%20Images/Connect_to_blob.gif\" width=\"1000\">"
    },
    {
      "metadata": {},
      "cell_type": "markdown",
      "source": "***"
    },
    {
      "metadata": {},
      "cell_type": "markdown",
      "source": "## <font color=\"#0066cc\">Zugriffsfreischaltung des BlobStorages</font>\n\nDamit PowerApps Daten in den BlobStorage laden kann müssen wir die **Zugriffsoptionen von unserem BlobStorage ändern**.\n\nGehe über das Azure Portal in den **BlobStorage** mit dem du die Power App zuvor verbunden hast und ändere und der **Reiter \"change acess level\"** den **Zugriff von privat auf anonym**."
    },
    {
      "metadata": {},
      "cell_type": "markdown",
      "source": "<img src=\"../media/PowerApp%20Images/enable_access_control.gif\" width=\"1000\">"
    },
    {
      "metadata": {},
      "cell_type": "markdown",
      "source": "****"
    },
    {
      "metadata": {},
      "cell_type": "markdown",
      "source": "## <font color=\"#0066cc\">Testen der App über die Handy App</font>"
    },
    {
      "metadata": {},
      "cell_type": "markdown",
      "source": "Um die App und die Verbindung zu unserem BlobStorage zu testen kannst du dir dir die Handy Version von PowerApps herunterladen. Stelle sicher das du dein Power Apps Projekt gespeichert hast.\n\nWenn du auf der Handy Version von Power Apps deine erstellte App öffnest kannst die erstellten bedienflächen nutzten, um mit dem Handy eine Foto zu machen und dieses, nach der Eingabe eines Dateiname, in deinen BlobStorage hochladen."
    },
    {
      "metadata": {},
      "cell_type": "markdown",
      "source": "***"
    },
    {
      "metadata": {},
      "cell_type": "markdown",
      "source": "\n# <font color=\"#0066cc\">Nächsten Schritte</font>\n\nNachdem wir nun die erste Schnittstellt zum hochladen der Bilder erstellt haben können wir uns um die Erstellung des Maschine Learning Modells kümmern.\n\nIn dem Notebook Custom Vision findest du die nächsten Schritte, um ein Modell mit Custom Vision zu erstellen.\nDu kannst aber natürlich auch noch weiter an der PowerApp weiterarbeiten, um die Obfläche etwas Nutzerfreundlicher zu gestalten."
    }
  ],
  "metadata": {
    "kernelspec": {
      "name": "python36",
      "display_name": "Python 3.6",
      "language": "python"
    },
    "language_info": {
      "mimetype": "text/x-python",
      "nbconvert_exporter": "python",
      "name": "python",
      "pygments_lexer": "ipython3",
      "version": "3.6.6",
      "file_extension": ".py",
      "codemirror_mode": {
        "version": 3,
        "name": "ipython"
      }
    },
    "nbTranslate": {
      "hotkey": "alt-t",
      "sourceLang": "en",
      "targetLang": "fr",
      "displayLangs": [
        "*"
      ],
      "langInMainMenu": true,
      "useGoogleTranslate": true
    },
    "varInspector": {
      "window_display": false,
      "cols": {
        "lenName": 16,
        "lenType": 16,
        "lenVar": 40
      },
      "kernels_config": {
        "python": {
          "library": "var_list.py",
          "delete_cmd_prefix": "del ",
          "delete_cmd_postfix": "",
          "varRefreshCmd": "print(var_dic_list())"
        },
        "r": {
          "library": "var_list.r",
          "delete_cmd_prefix": "rm(",
          "delete_cmd_postfix": ") ",
          "varRefreshCmd": "cat(var_dic_list()) "
        }
      },
      "types_to_exclude": [
        "module",
        "function",
        "builtin_function_or_method",
        "instance",
        "_Feature"
      ]
    }
  },
  "nbformat": 4,
  "nbformat_minor": 2
}