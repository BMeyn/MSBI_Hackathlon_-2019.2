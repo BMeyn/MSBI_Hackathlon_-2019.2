{
  "cells": [
    {
      "metadata": {
        "trusted": true
      },
      "cell_type": "code",
      "source": "\nimport os \nimport numpy as np\nimport matplotlib.pyplot as plt\nimport matplotlib.patches as patches\nimport pandas as pd\n\n%matplotlib inline\n\nimport pprint\n\n\n########## Custom Vision imports ########## \ntry:\n    from azure.cognitiveservices.vision.customvision.prediction import CustomVisionPredictionClient\n    import cv2\nexcept:\n    \n    !pip install opencv-python\n    import cv2\n    \n    !pip install azure-cognitiveservices-vision-customvision\n    from azure.cognitiveservices.vision.customvision.prediction import CustomVisionPredictionClient\n\n## Custom Vison PredictionClient Credentials\nprediction_key = \"16bc6cf28ad444c6b3841236685786c4\"\nENDPOINT = \"https://msbicustomvision.cognitiveservices.azure.com/\"\n\n# Now there is a trained endpoint that can be used to make a prediction\npredictor = CustomVisionPredictionClient(prediction_key, endpoint=ENDPOINT)\n\n\n## Custom Vison detection Credentials\n# define the project you want to use\nproject_id = \"857c8676-f337-40b9-bd96-706104755eff\"\n# selection of the model version\npublish_iteration_name =\"MSBI-Hackathlon-DetectionModel\"",
      "execution_count": 1,
      "outputs": [
        {
          "output_type": "stream",
          "text": "/home/nbuser/anaconda3_420/lib/python3.5/site-packages/matplotlib/font_manager.py:281: UserWarning: Matplotlib is building the font cache using fc-list. This may take a moment.\n  'Matplotlib is building the font cache using fc-list. '\n",
          "name": "stderr"
        },
        {
          "output_type": "stream",
          "text": "Collecting opencv-python\n\u001b[?25l  Downloading https://files.pythonhosted.org/packages/85/3d/7c8275de69dfa1bff12392d0ecaf0523cdc656e660448e7f723bd867a9e1/opencv_python-4.1.1.26-cp35-cp35m-manylinux1_x86_64.whl (28.7MB)\n\u001b[K     |████████████████████████████████| 28.7MB 11kB/s  eta 0:00:01    |█                               | 901kB 2.7MB/s eta 0:00:11��████          | 19.7MB 2.7MB/s eta 0:00:04:00:02 6.0MB/s eta 0:00:02\n\u001b[?25hRequirement already satisfied: numpy>=1.11.1 in /home/nbuser/anaconda3_420/lib/python3.5/site-packages (from opencv-python) (1.17.0)\nInstalling collected packages: opencv-python\nSuccessfully installed opencv-python-4.1.1.26\n\u001b[33mWARNING: You are using pip version 19.2.2, however version 19.2.3 is available.\nYou should consider upgrading via the 'pip install --upgrade pip' command.\u001b[0m\nCollecting azure-cognitiveservices-vision-customvision\n\u001b[?25l  Downloading https://files.pythonhosted.org/packages/75/23/1b19ab32108319a4a30ea19559aad8ffbd5cc0b6d136f208fc2f78088715/azure_cognitiveservices_vision_customvision-1.0.0-py2.py3-none-any.whl (109kB)\n\u001b[K     |████████████████████████████████| 112kB 3.1MB/s eta 0:00:01\n\u001b[?25hRequirement already satisfied: azure-common~=1.1 in /home/nbuser/anaconda3_420/lib/python3.5/site-packages (from azure-cognitiveservices-vision-customvision) (1.1.23)\nCollecting msrest>=0.5.0 (from azure-cognitiveservices-vision-customvision)\n\u001b[?25l  Downloading https://files.pythonhosted.org/packages/27/b0/c34b3ea9b2ed74b800520fbefb312cdb7f05c20b8bd42e5e7662a5614f98/msrest-0.6.10-py2.py3-none-any.whl (82kB)\n\u001b[K     |████████████████████████████████| 92kB 9.5MB/s  eta 0:00:01\n\u001b[?25hCollecting certifi>=2017.4.17 (from msrest>=0.5.0->azure-cognitiveservices-vision-customvision)\n\u001b[?25l  Downloading https://files.pythonhosted.org/packages/18/b0/8146a4f8dd402f60744fa380bc73ca47303cccf8b9190fd16a827281eac2/certifi-2019.9.11-py2.py3-none-any.whl (154kB)\n\u001b[K     |████████████████████████████████| 163kB 7.5MB/s eta 0:00:01\n\u001b[?25hCollecting requests~=2.16 (from msrest>=0.5.0->azure-cognitiveservices-vision-customvision)\n  Using cached https://files.pythonhosted.org/packages/51/bd/23c926cd341ea6b7dd0b2a00aba99ae0f828be89d72b2190f27c11d4b7fb/requests-2.22.0-py2.py3-none-any.whl\nCollecting isodate>=0.6.0 (from msrest>=0.5.0->azure-cognitiveservices-vision-customvision)\n\u001b[?25l  Downloading https://files.pythonhosted.org/packages/9b/9f/b36f7774ff5ea8e428fdcfc4bb332c39ee5b9362ddd3d40d9516a55221b2/isodate-0.6.0-py2.py3-none-any.whl (45kB)\n\u001b[K     |████████████████████████████████| 51kB 4.8MB/s  eta 0:00:01\n\u001b[?25hCollecting requests-oauthlib>=0.5.0 (from msrest>=0.5.0->azure-cognitiveservices-vision-customvision)\n  Downloading https://files.pythonhosted.org/packages/c2/e2/9fd03d55ffb70fe51f587f20bcf407a6927eb121de86928b34d162f0b1ac/requests_oauthlib-1.2.0-py2.py3-none-any.whl\nRequirement already satisfied: urllib3!=1.25.0,!=1.25.1,<1.26,>=1.21.1 in /home/nbuser/anaconda3_420/lib/python3.5/site-packages (from requests~=2.16->msrest>=0.5.0->azure-cognitiveservices-vision-customvision) (1.25.3)\nRequirement already satisfied: idna<2.9,>=2.5 in /home/nbuser/anaconda3_420/lib/python3.5/site-packages (from requests~=2.16->msrest>=0.5.0->azure-cognitiveservices-vision-customvision) (2.8)\nCollecting chardet<3.1.0,>=3.0.2 (from requests~=2.16->msrest>=0.5.0->azure-cognitiveservices-vision-customvision)\n  Using cached https://files.pythonhosted.org/packages/bc/a9/01ffebfb562e4274b6487b4bb1ddec7ca55ec7510b22e4c51f14098443b8/chardet-3.0.4-py2.py3-none-any.whl\nRequirement already satisfied: six in /home/nbuser/anaconda3_420/lib/python3.5/site-packages (from isodate>=0.6.0->msrest>=0.5.0->azure-cognitiveservices-vision-customvision) (1.11.0)\nCollecting oauthlib>=3.0.0 (from requests-oauthlib>=0.5.0->msrest>=0.5.0->azure-cognitiveservices-vision-customvision)\n\u001b[?25l  Downloading https://files.pythonhosted.org/packages/05/57/ce2e7a8fa7c0afb54a0581b14a65b56e62b5759dbc98e80627142b8a3704/oauthlib-3.1.0-py2.py3-none-any.whl (147kB)\n\u001b[K     |████████████████████████████████| 153kB 11.8MB/s eta 0:00:01\n\u001b[?25hInstalling collected packages: certifi, chardet, requests, isodate, oauthlib, requests-oauthlib, msrest, azure-cognitiveservices-vision-customvision\n  Found existing installation: requests 2.14.2\n    Uninstalling requests-2.14.2:\n      Successfully uninstalled requests-2.14.2\nSuccessfully installed azure-cognitiveservices-vision-customvision-1.0.0 certifi-2019.9.11 chardet-3.0.4 isodate-0.6.0 msrest-0.6.10 oauthlib-3.1.0 requests-2.22.0 requests-oauthlib-1.2.0\n\u001b[33mWARNING: You are using pip version 19.2.2, however version 19.2.3 is available.\nYou should consider upgrading via the 'pip install --upgrade pip' command.\u001b[0m\n",
          "name": "stdout"
        }
      ]
    },
    {
      "metadata": {
        "trusted": true
      },
      "cell_type": "code",
      "source": "import http.client, urllib.request, urllib.parse, urllib.error, base64\n\nheaders = {\n    # Request headers\n    'Training-Key': '',\n    'Content-Type': 'application/json',\n    'Training-key': '{subscription key}',\n}\n\nparams = urllib.parse.urlencode({\n})\n\ntry:\n    conn = http.client.HTTPSConnection('southcentralus.api.cognitive.microsoft.com')\n    conn.request(\"POST\", \"/customvision/v3.0/training/projects/{projectId}/images/regions?%s\" % params, \"{body}\", headers)\n    response = conn.getresponse()\n    data = response.read()\n    print(data)\n    conn.close()\nexcept Exception as e:\n    print(\"[Errno {0}] {1}\".format(e.errno, e.strerror))\n",
      "execution_count": 2,
      "outputs": [
        {
          "output_type": "stream",
          "text": "b'{\"error\":{\"code\":\"401\",\"message\": \"Access denied due to invalid subscription key or wrong API endpoint. Make sure to provide a valid key for an active subscription and use a correct regional API endpoint for your resource.\"}}'\n",
          "name": "stdout"
        }
      ]
    },
    {
      "metadata": {
        "trusted": true
      },
      "cell_type": "code",
      "source": "",
      "execution_count": null,
      "outputs": []
    }
  ],
  "metadata": {
    "kernelspec": {
      "name": "python3",
      "display_name": "Python 3",
      "language": "python"
    },
    "nbTranslate": {
      "hotkey": "alt-t",
      "sourceLang": "en",
      "targetLang": "fr",
      "displayLangs": [
        "*"
      ],
      "langInMainMenu": true,
      "useGoogleTranslate": true
    },
    "language_info": {
      "mimetype": "text/x-python",
      "nbconvert_exporter": "python",
      "name": "python",
      "pygments_lexer": "ipython3",
      "version": "3.5.4",
      "file_extension": ".py",
      "codemirror_mode": {
        "version": 3,
        "name": "ipython"
      }
    },
    "varInspector": {
      "window_display": false,
      "cols": {
        "lenName": 16,
        "lenType": 16,
        "lenVar": 40
      },
      "kernels_config": {
        "python": {
          "library": "var_list.py",
          "delete_cmd_prefix": "del ",
          "delete_cmd_postfix": "",
          "varRefreshCmd": "print(var_dic_list())"
        },
        "r": {
          "library": "var_list.r",
          "delete_cmd_prefix": "rm(",
          "delete_cmd_postfix": ") ",
          "varRefreshCmd": "cat(var_dic_list()) "
        }
      },
      "types_to_exclude": [
        "module",
        "function",
        "builtin_function_or_method",
        "instance",
        "_Feature"
      ]
    }
  },
  "nbformat": 4,
  "nbformat_minor": 1
}