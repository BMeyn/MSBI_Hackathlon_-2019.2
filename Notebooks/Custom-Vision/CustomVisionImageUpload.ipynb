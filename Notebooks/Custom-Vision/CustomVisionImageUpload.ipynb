{
  "cells": [
    {
      "metadata": {
        "trusted": true
      },
      "cell_type": "markdown",
      "source": "# Custom Vision: Hochladen von gelabelten Bildern mit Python"
    },
    {
      "metadata": {
        "trusted": true
      },
      "cell_type": "code",
      "source": "ENDPOINT = \"https://eastus.api.cognitive.microsoft.com/\"\n\n# Replace with a valid key\n# You can find the keys in the CustomVision property\ntraining_key = \"f27bc63d4a8944e687627072687a73c3\"\nproject_name = \"WaterMeterDetection (2)\"\nproject_id = \"fbd892e5-7020-453b-b7fa-1ffc1da2c662\"",
      "execution_count": 1,
      "outputs": []
    },
    {
      "metadata": {
        "trusted": true
      },
      "cell_type": "code",
      "source": "",
      "execution_count": 50,
      "outputs": []
    },
    {
      "metadata": {
        "trusted": true
      },
      "cell_type": "code",
      "source": "from ipywidgets import Button,Text, Layout\n\n\nfrom IPython.display import display\ntraining_key = widgets.Text(placeholder=\"Custom Vison Trainings Key\")\ndisplay(training_key)\n\nendpoint = widgets.Text(placeholder=\"Endpoint\")\ndisplay(training_key)\n\n\nproject_name = widgets.Text(description=\"CustomVison Projekt Name\", layout=b)\ndisplay(project_name)\n\nproject_id = widgets.Text(description=\"Projekt ID\")\ndisplay(project_id)\n\nbutton = Button(description=\"Bilder Hochladen\", layout=b)\ndisplay(button)\n\n\ndef handle_submit(sender):\n    print(\"test\")\n    \nbutton.on_click(handle_submit)",
      "execution_count": 52,
      "outputs": [
        {
          "output_type": "display_data",
          "data": {
            "application/vnd.jupyter.widget-view+json": {
              "model_id": "ec630bd09e04427aaafe6e97dae1f3e4",
              "version_minor": 0,
              "version_major": 2
            },
            "text/plain": "Text(value='', placeholder='Custom Vison Trainings Key')"
          },
          "metadata": {}
        },
        {
          "output_type": "display_data",
          "data": {
            "application/vnd.jupyter.widget-view+json": {
              "model_id": "ec630bd09e04427aaafe6e97dae1f3e4",
              "version_minor": 0,
              "version_major": 2
            },
            "text/plain": "Text(value='', placeholder='Custom Vison Trainings Key')"
          },
          "metadata": {}
        },
        {
          "output_type": "display_data",
          "data": {
            "application/vnd.jupyter.widget-view+json": {
              "model_id": "2ff43d60cbc44de9a90467f00d58fd76",
              "version_minor": 0,
              "version_major": 2
            },
            "text/plain": "Text(value='', description='CustomVison Projekt Name', layout=Layout(width='auto'))"
          },
          "metadata": {}
        },
        {
          "output_type": "display_data",
          "data": {
            "application/vnd.jupyter.widget-view+json": {
              "model_id": "693b9957df684185b2100267a4cca33e",
              "version_minor": 0,
              "version_major": 2
            },
            "text/plain": "Text(value='', description='Projekt ID')"
          },
          "metadata": {}
        },
        {
          "output_type": "display_data",
          "data": {
            "application/vnd.jupyter.widget-view+json": {
              "model_id": "5e2eb757ebd849e3a4761d21c956f3cb",
              "version_minor": 0,
              "version_major": 2
            },
            "text/plain": "Button(description='Bilder Hochladen', layout=Layout(width='auto'), style=ButtonStyle())"
          },
          "metadata": {}
        }
      ]
    },
    {
      "metadata": {
        "trusted": true
      },
      "cell_type": "code",
      "source": "# Imports\nimport os\nimport pandas as pd\n\ntry:\n    from azure.cognitiveservices.vision.computervision import ComputerVisionClient\n    from azure.cognitiveservices.vision.computervision.models import ImageFileCreateEntry, Region\nexcept:\n    !pip install azure.cognitiveservices.vision.computervision\n    from azure.cognitiveservices.vision.computervision import ComputerVisionClient\n    from azure.cognitiveservices.vision.computervision.models import ImageFileCreateEntry, Region\n",
      "execution_count": 20,
      "outputs": [
        {
          "output_type": "stream",
          "text": "Collecting azure.cognitiveservices.vision.computervision\n  Using cached https://files.pythonhosted.org/packages/55/d8/f61816761877cdd9c0e1e2274914946e67b3a07dd59bda37636badcedba1/azure_cognitiveservices_vision_computervision-0.5.0-py2.py3-none-any.whl\nRequirement already satisfied: azure-common~=1.1 in /home/nbuser/anaconda3_501/lib/python3.6/site-packages (from azure.cognitiveservices.vision.computervision) (1.1.23)\nRequirement already satisfied: msrest>=0.5.0 in /home/nbuser/anaconda3_501/lib/python3.6/site-packages (from azure.cognitiveservices.vision.computervision) (0.6.9)\nRequirement already satisfied: isodate>=0.6.0 in /home/nbuser/anaconda3_501/lib/python3.6/site-packages (from msrest>=0.5.0->azure.cognitiveservices.vision.computervision) (0.6.0)\nRequirement already satisfied: requests~=2.16 in /home/nbuser/anaconda3_501/lib/python3.6/site-packages (from msrest>=0.5.0->azure.cognitiveservices.vision.computervision) (2.22.0)\nRequirement already satisfied: certifi>=2017.4.17 in /home/nbuser/anaconda3_501/lib/python3.6/site-packages (from msrest>=0.5.0->azure.cognitiveservices.vision.computervision) (2018.10.15)\nRequirement already satisfied: requests-oauthlib>=0.5.0 in /home/nbuser/anaconda3_501/lib/python3.6/site-packages (from msrest>=0.5.0->azure.cognitiveservices.vision.computervision) (1.2.0)\nRequirement already satisfied: six in /home/nbuser/anaconda3_501/lib/python3.6/site-packages (from isodate>=0.6.0->msrest>=0.5.0->azure.cognitiveservices.vision.computervision) (1.11.0)\nRequirement already satisfied: urllib3!=1.25.0,!=1.25.1,<1.26,>=1.21.1 in /home/nbuser/anaconda3_501/lib/python3.6/site-packages (from requests~=2.16->msrest>=0.5.0->azure.cognitiveservices.vision.computervision) (1.23)\nRequirement already satisfied: chardet<3.1.0,>=3.0.2 in /home/nbuser/anaconda3_501/lib/python3.6/site-packages (from requests~=2.16->msrest>=0.5.0->azure.cognitiveservices.vision.computervision) (3.0.4)\nRequirement already satisfied: idna<2.9,>=2.5 in /home/nbuser/anaconda3_501/lib/python3.6/site-packages (from requests~=2.16->msrest>=0.5.0->azure.cognitiveservices.vision.computervision) (2.7)\nRequirement already satisfied: oauthlib>=3.0.0 in /home/nbuser/anaconda3_501/lib/python3.6/site-packages (from requests-oauthlib>=0.5.0->msrest>=0.5.0->azure.cognitiveservices.vision.computervision) (3.1.0)\nInstalling collected packages: azure.cognitiveservices.vision.computervision\nSuccessfully installed azure.cognitiveservices.vision.computervision\n\u001b[33mWARNING: You are using pip version 19.2.2, however version 19.3.1 is available.\nYou should consider upgrading via the 'pip install --upgrade pip' command.\u001b[0m\n",
          "name": "stdout"
        },
        {
          "output_type": "error",
          "ename": "ImportError",
          "evalue": "cannot import name 'ImageFileCreateEntry'",
          "traceback": [
            "\u001b[0;31m---------------------------------------------------------------------------\u001b[0m",
            "\u001b[0;31mImportError\u001b[0m                               Traceback (most recent call last)",
            "\u001b[0;32m<ipython-input-20-bfd0ed329504>\u001b[0m in \u001b[0;36m<module>\u001b[0;34m\u001b[0m\n\u001b[1;32m      6\u001b[0m     \u001b[0;32mfrom\u001b[0m \u001b[0mazure\u001b[0m\u001b[0;34m.\u001b[0m\u001b[0mcognitiveservices\u001b[0m\u001b[0;34m.\u001b[0m\u001b[0mvision\u001b[0m\u001b[0;34m.\u001b[0m\u001b[0mcomputervision\u001b[0m \u001b[0;32mimport\u001b[0m \u001b[0mComputerVisionClient\u001b[0m\u001b[0;34m\u001b[0m\u001b[0m\n\u001b[0;32m----> 7\u001b[0;31m     \u001b[0;32mfrom\u001b[0m \u001b[0mazure\u001b[0m\u001b[0;34m.\u001b[0m\u001b[0mcognitiveservices\u001b[0m\u001b[0;34m.\u001b[0m\u001b[0mvision\u001b[0m\u001b[0;34m.\u001b[0m\u001b[0mcomputervision\u001b[0m\u001b[0;34m.\u001b[0m\u001b[0mmodels\u001b[0m \u001b[0;32mimport\u001b[0m \u001b[0mImageFileCreateEntry\u001b[0m\u001b[0;34m,\u001b[0m \u001b[0mRegion\u001b[0m\u001b[0;34m\u001b[0m\u001b[0m\n\u001b[0m\u001b[1;32m      8\u001b[0m \u001b[0;32mexcept\u001b[0m\u001b[0;34m:\u001b[0m\u001b[0;34m\u001b[0m\u001b[0m\n",
            "\u001b[0;31mImportError\u001b[0m: cannot import name 'ImageFileCreateEntry'",
            "\nDuring handling of the above exception, another exception occurred:\n",
            "\u001b[0;31mImportError\u001b[0m                               Traceback (most recent call last)",
            "\u001b[0;32m<ipython-input-20-bfd0ed329504>\u001b[0m in \u001b[0;36m<module>\u001b[0;34m\u001b[0m\n\u001b[1;32m      9\u001b[0m     \u001b[0mget_ipython\u001b[0m\u001b[0;34m(\u001b[0m\u001b[0;34m)\u001b[0m\u001b[0;34m.\u001b[0m\u001b[0msystem\u001b[0m\u001b[0;34m(\u001b[0m\u001b[0;34m'pip install azure.cognitiveservices.vision.computervision'\u001b[0m\u001b[0;34m)\u001b[0m\u001b[0;34m\u001b[0m\u001b[0m\n\u001b[1;32m     10\u001b[0m     \u001b[0;32mfrom\u001b[0m \u001b[0mazure\u001b[0m\u001b[0;34m.\u001b[0m\u001b[0mcognitiveservices\u001b[0m\u001b[0;34m.\u001b[0m\u001b[0mvision\u001b[0m\u001b[0;34m.\u001b[0m\u001b[0mcomputervision\u001b[0m \u001b[0;32mimport\u001b[0m \u001b[0mComputerVisionClient\u001b[0m\u001b[0;34m\u001b[0m\u001b[0m\n\u001b[0;32m---> 11\u001b[0;31m     \u001b[0;32mfrom\u001b[0m \u001b[0mazure\u001b[0m\u001b[0;34m.\u001b[0m\u001b[0mcognitiveservices\u001b[0m\u001b[0;34m.\u001b[0m\u001b[0mvision\u001b[0m\u001b[0;34m.\u001b[0m\u001b[0mcomputervision\u001b[0m\u001b[0;34m.\u001b[0m\u001b[0mmodels\u001b[0m \u001b[0;32mimport\u001b[0m \u001b[0mImageFileCreateEntry\u001b[0m\u001b[0;34m,\u001b[0m \u001b[0mRegion\u001b[0m\u001b[0;34m\u001b[0m\u001b[0m\n\u001b[0m",
            "\u001b[0;31mImportError\u001b[0m: cannot import name 'ImageFileCreateEntry'"
          ]
        }
      ]
    },
    {
      "metadata": {
        "trusted": true
      },
      "cell_type": "code",
      "source": "\ntrainer = CustomVisionTrainingClient(training_key, endpoint=ENDPOINT)\n\n# Create a new project\nprint (\"Connect to project...\")\nproject = trainer.get_project(project_id, custom_headers=None, raw=False)\nprint(project.id)\n\ntry:\n    # Create a new tag\n    tag_str = \"NumberArea\"\n    NumberArea_tag = trainer.create_tag(project.id, tag_str)\nexcept:\n    pass\n\n#! Upload Images\n# Update this with the path to where you downloaded the images.\ntrain_images_path = \"/home/nbuser/library/data/train_images/\"\nlabel_path = \"/home/nbuser/library/data/labels/image_regions.csv\"\ntrain_file_names = os.listdir(train_images_path)\nlabels_df = pd.read_csv(label_path)\n\n# Go through the data table above and create the images\nprint(\"Adding images...\")\n\n#! Image need to uploaded in batches with max size of 64 samples\n# function to create the batches\ndef batch(iterable, n=1):\n    l = len(iterable)\n    for ndx in range(0, l, n):\n        yield iterable[ndx:min(ndx + n, l)]\n\n# use the batch function to create batches\nbatch_num = 0\nfor batch_samples in batch(train_file_names, 64):\n    batch_num =+ 1\n    print(\"Starting Batch: \" + str(batch_num) + \" / \" + str((len(train_file_names)/64 )+1))\n    print(len(batch_samples))\n\n    tagged_images_with_regions = []\n\n    # iterate throw all batches\n    for file_name in batch_samples:\n        # select the region labels from the image_redions.csv by the image_id\n        row = labels_df[labels_df[\"image_id\"]==file_name]\n        \n        # save the labels from the dataframe into variables\n        x,y,w,h =  row[\"left\"],row[\"top\"], row[\"width\"],  row[\"height\"]\n        image_id = row[\"image_id\"]\n\n        # create the CustomVision Region objects \n        regions = [Region(tag_id=NumberArea_tag.id, left=x,top=y,width=w,height=h)]\n\n        # load the images and combine the image data withe the\n        with open(train_images_path + file_name, mode=\"rb\") as image_contents:\n            tagged_images_with_regions.append(ImageFileCreateEntry(name=image_id, contents=image_contents.read(), regions=regions))\n\n    upload_result = trainer.create_images_from_files(project.id, images=tagged_images_with_regions)\n\n    if not upload_result.is_batch_successful:\n        print(\"Image batch upload failed.\")\n        for image in upload_result.images:\n            print(\"Image status: \", image.status)\n",
      "execution_count": 22,
      "outputs": [
        {
          "output_type": "stream",
          "text": "Connect to project...\nfbd892e5-7020-453b-b7fa-1ffc1da2c662\nAdding images...\nStarting Batch: 1 / 2.421875\n64\nStarting Batch: 1 / 2.421875\n27\nImage batch upload failed.\nImage status:  OK\nImage status:  OK\nImage status:  OK\nImage status:  OK\nImage status:  OK\nImage status:  OK\nImage status:  OK\nImage status:  OK\nImage status:  OK\nImage status:  OK\nImage status:  OK\nImage status:  OK\nImage status:  OK\nImage status:  OK\nImage status:  OK\nImage status:  OK\nImage status:  OK\nImage status:  OK\nImage status:  OK\nImage status:  OK\nImage status:  OK\nImage status:  OK\nImage status:  OK\nImage status:  OK\nImage status:  OK\nImage status:  OK\nImage status:  OKDuplicate\n",
          "name": "stdout"
        }
      ]
    },
    {
      "metadata": {
        "trusted": true
      },
      "cell_type": "code",
      "source": "",
      "execution_count": null,
      "outputs": []
    }
  ],
  "metadata": {
    "kernelspec": {
      "name": "python36",
      "display_name": "Python 3.6",
      "language": "python"
    },
    "nbTranslate": {
      "hotkey": "alt-t",
      "sourceLang": "en",
      "targetLang": "fr",
      "displayLangs": [
        "*"
      ],
      "langInMainMenu": true,
      "useGoogleTranslate": true
    },
    "varInspector": {
      "window_display": false,
      "cols": {
        "lenName": 16,
        "lenType": 16,
        "lenVar": 40
      },
      "kernels_config": {
        "python": {
          "library": "var_list.py",
          "delete_cmd_prefix": "del ",
          "delete_cmd_postfix": "",
          "varRefreshCmd": "print(var_dic_list())"
        },
        "r": {
          "library": "var_list.r",
          "delete_cmd_prefix": "rm(",
          "delete_cmd_postfix": ") ",
          "varRefreshCmd": "cat(var_dic_list()) "
        }
      },
      "types_to_exclude": [
        "module",
        "function",
        "builtin_function_or_method",
        "instance",
        "_Feature"
      ]
    },
    "language_info": {
      "mimetype": "text/x-python",
      "nbconvert_exporter": "python",
      "name": "python",
      "pygments_lexer": "ipython3",
      "version": "3.6.6",
      "file_extension": ".py",
      "codemirror_mode": {
        "version": 3,
        "name": "ipython"
      }
    }
  },
  "nbformat": 4,
  "nbformat_minor": 2
}