{
  "cells": [
    {
      "metadata": {
        "trusted": true
      },
      "cell_type": "code",
      "source": "from azure.cognitiveservices.vision.customvision.training import CustomVisionTrainingClient",
      "execution_count": 5,
      "outputs": [
        {
          "output_type": "error",
          "ename": "ImportError",
          "evalue": "No module named 'azure.cognitiveservices.vision.customvision'",
          "traceback": [
            "\u001b[0;31m---------------------------------------------------------------------------\u001b[0m",
            "\u001b[0;31mImportError\u001b[0m                               Traceback (most recent call last)",
            "\u001b[0;32m<ipython-input-5-d1bb348a3f16>\u001b[0m in \u001b[0;36m<module>\u001b[0;34m()\u001b[0m\n\u001b[0;32m----> 1\u001b[0;31m \u001b[0;32mfrom\u001b[0m \u001b[0mazure\u001b[0m\u001b[0;34m.\u001b[0m\u001b[0mcognitiveservices\u001b[0m\u001b[0;34m.\u001b[0m\u001b[0mvision\u001b[0m\u001b[0;34m.\u001b[0m\u001b[0mcustomvision\u001b[0m\u001b[0;34m.\u001b[0m\u001b[0mtraining\u001b[0m \u001b[0;32mimport\u001b[0m \u001b[0mCustomVisionTrainingClient\u001b[0m\u001b[0;34m\u001b[0m\u001b[0m\n\u001b[0m",
            "\u001b[0;31mImportError\u001b[0m: No module named 'azure.cognitiveservices.vision.customvision'"
          ]
        }
      ]
    },
    {
      "metadata": {
        "trusted": true
      },
      "cell_type": "code",
      "source": "import sys\nprint(sys.executable)",
      "execution_count": 13,
      "outputs": [
        {
          "output_type": "stream",
          "text": "/home/nbuser/anaconda3_420/bin/python\n",
          "name": "stdout"
        }
      ]
    },
    {
      "metadata": {
        "trusted": true
      },
      "cell_type": "code",
      "source": "import sys\n!\"/home/nbuser/anaconda3_420/bin/python\" -m pip install azure-cognitiveservices-vision-computervision",
      "execution_count": 3,
      "outputs": [
        {
          "output_type": "stream",
          "text": "Collecting azure-cognitiveservices-vision-computervision\n  Downloading https://files.pythonhosted.org/packages/55/d8/f61816761877cdd9c0e1e2274914946e67b3a07dd59bda37636badcedba1/azure_cognitiveservices_vision_computervision-0.5.0-py2.py3-none-any.whl\nRequirement already satisfied: azure-common~=1.1 in /home/nbuser/anaconda3_420/lib/python3.5/site-packages (from azure-cognitiveservices-vision-computervision) (1.1.23)\nCollecting msrest>=0.5.0 (from azure-cognitiveservices-vision-computervision)\n\u001b[?25l  Downloading https://files.pythonhosted.org/packages/27/b0/c34b3ea9b2ed74b800520fbefb312cdb7f05c20b8bd42e5e7662a5614f98/msrest-0.6.10-py2.py3-none-any.whl (82kB)\n\u001b[K     |████████████████████████████████| 92kB 2.0MB/s eta 0:00:011\n\u001b[?25hCollecting requests~=2.16 (from msrest>=0.5.0->azure-cognitiveservices-vision-computervision)\n  Using cached https://files.pythonhosted.org/packages/51/bd/23c926cd341ea6b7dd0b2a00aba99ae0f828be89d72b2190f27c11d4b7fb/requests-2.22.0-py2.py3-none-any.whl\nCollecting certifi>=2017.4.17 (from msrest>=0.5.0->azure-cognitiveservices-vision-computervision)\n\u001b[?25l  Downloading https://files.pythonhosted.org/packages/18/b0/8146a4f8dd402f60744fa380bc73ca47303cccf8b9190fd16a827281eac2/certifi-2019.9.11-py2.py3-none-any.whl (154kB)\n\u001b[K     |████████████████████████████████| 163kB 3.3MB/s eta 0:00:01\n\u001b[?25hCollecting requests-oauthlib>=0.5.0 (from msrest>=0.5.0->azure-cognitiveservices-vision-computervision)\n  Downloading https://files.pythonhosted.org/packages/c2/e2/9fd03d55ffb70fe51f587f20bcf407a6927eb121de86928b34d162f0b1ac/requests_oauthlib-1.2.0-py2.py3-none-any.whl\nCollecting isodate>=0.6.0 (from msrest>=0.5.0->azure-cognitiveservices-vision-computervision)\n\u001b[?25l  Downloading https://files.pythonhosted.org/packages/9b/9f/b36f7774ff5ea8e428fdcfc4bb332c39ee5b9362ddd3d40d9516a55221b2/isodate-0.6.0-py2.py3-none-any.whl (45kB)\n\u001b[K     |████████████████████████████████| 51kB 2.0MB/s eta 0:00:01\n\u001b[?25hRequirement already satisfied: idna<2.9,>=2.5 in /home/nbuser/anaconda3_420/lib/python3.5/site-packages (from requests~=2.16->msrest>=0.5.0->azure-cognitiveservices-vision-computervision) (2.8)\nCollecting chardet<3.1.0,>=3.0.2 (from requests~=2.16->msrest>=0.5.0->azure-cognitiveservices-vision-computervision)\n  Using cached https://files.pythonhosted.org/packages/bc/a9/01ffebfb562e4274b6487b4bb1ddec7ca55ec7510b22e4c51f14098443b8/chardet-3.0.4-py2.py3-none-any.whl\nRequirement already satisfied: urllib3!=1.25.0,!=1.25.1,<1.26,>=1.21.1 in /home/nbuser/anaconda3_420/lib/python3.5/site-packages (from requests~=2.16->msrest>=0.5.0->azure-cognitiveservices-vision-computervision) (1.25.3)\nCollecting oauthlib>=3.0.0 (from requests-oauthlib>=0.5.0->msrest>=0.5.0->azure-cognitiveservices-vision-computervision)\n\u001b[?25l  Downloading https://files.pythonhosted.org/packages/05/57/ce2e7a8fa7c0afb54a0581b14a65b56e62b5759dbc98e80627142b8a3704/oauthlib-3.1.0-py2.py3-none-any.whl (147kB)\n\u001b[K     |████████████████████████████████| 153kB 4.5MB/s eta 0:00:01\n\u001b[?25hRequirement already satisfied: six in /home/nbuser/anaconda3_420/lib/python3.5/site-packages (from isodate>=0.6.0->msrest>=0.5.0->azure-cognitiveservices-vision-computervision) (1.11.0)\nInstalling collected packages: chardet, certifi, requests, oauthlib, requests-oauthlib, isodate, msrest, azure-cognitiveservices-vision-computervision\n  Found existing installation: requests 2.14.2\n    Uninstalling requests-2.14.2:\n      Successfully uninstalled requests-2.14.2\nSuccessfully installed azure-cognitiveservices-vision-computervision-0.5.0 certifi-2019.9.11 chardet-3.0.4 isodate-0.6.0 msrest-0.6.10 oauthlib-3.1.0 requests-2.22.0 requests-oauthlib-1.2.0\n\u001b[33mWARNING: You are using pip version 19.2.2, however version 19.3.1 is available.\nYou should consider upgrading via the 'pip install --upgrade pip' command.\u001b[0m\n",
          "name": "stdout"
        }
      ]
    },
    {
      "metadata": {
        "trusted": true
      },
      "cell_type": "code",
      "source": "!pip list",
      "execution_count": 6,
      "outputs": [
        {
          "output_type": "stream",
          "text": "Package                                       Version    \n--------------------------------------------- -----------\nadal                                          1.2.2      \nalabaster                                     0.7.9      \naltair                                        3.2.0      \nanaconda-clean                                1.0        \nanaconda-client                               1.5.1      \nanaconda-navigator                            1.3.1      \nargcomplete                                   1.0.0      \narrow                                         0.14.5     \nasn1crypto                                    0.24.0     \nastroid                                       1.4.7      \nastropy                                       1.2.1      \nattrs                                         19.1.0     \nAutomat                                       0.7.0      \nazure-cognitiveservices-vision-computervision 0.5.0      \nazure-common                                  1.1.23     \nazure-kusto-data                              0.0.11     \nazure-kusto-ingest                            0.0.11     \nazure-nspkg                                   3.0.2      \nazure-storage-blob                            2.1.0      \nazure-storage-common                          2.1.0      \nazure-storage-queue                           2.1.0      \nazureml                                       0.2.7      \nBabel                                         2.3.4      \nbackports.shutil-get-terminal-size            1.0.0      \nbeautifier                                    0.5.5      \nbeautifulsoup4                                4.5.1      \nbitarray                                      0.8.1      \nbkcharts                                      0.2        \nblaze                                         0.10.1     \nbokeh                                         0.12.7     \nboto                                          2.42.0     \nboto3                                         1.4.8      \nbotocore                                      1.8.50     \nBottleneck                                    1.1.0      \nbqplot                                        0.11.7     \nbrewer2mpl                                    1.4.1      \nCacheControl                                  0.12.3     \ncertifi                                       2019.9.11  \ncffi                                          1.7.0      \ncharacteristic                                14.3.0     \nchardet                                       3.0.4      \nchest                                         0.2.3      \nclick                                         6.6        \ncloudpickle                                   0.2.1      \nclyent                                        1.2.2      \ncntk                                          2.5.1      \ncolorama                                      0.3.9      \nconda                                         4.3.31     \nconda-build                                   2.0.2      \nconfigobj                                     5.0.6      \nconstantly                                    15.1.0     \ncontextlib2                                   0.5.3      \ncryptography                                  2.0.3      \ncycler                                        0.10.0     \nCython                                        0.24.1     \ncytoolz                                       0.8.0      \ndask                                          0.11.0     \ndatacleaner                                   0.1.5      \ndatashape                                     0.5.2      \ndecorator                                     4.4.0      \nDeprecated                                    1.2.6      \ndill                                          0.2.5      \ndocker-py                                     1.10.6     \ndocker-pycreds                                0.4.0      \ndocutils                                      0.12       \nDora                                          0.0.2      \ndynd                                          0.7.3.dev1 \nedward                                        1.3.5      \nelasticsearch                                 7.0.2      \nentrypoints                                   0.3        \net-xmlfile                                    1.0.1      \nfastcache                                     1.0.2      \nfeedparser                                    5.2.1      \nfilelock                                      2.0.6      \nFlask                                         0.11.1     \nFlask-Cors                                    2.1.2      \nftfy                                          5.3.0      \nfuture                                        0.17.1     \nGDAL                                          2.2.2      \ngevent                                        1.1.2      \nggplot                                        0.11.5     \ngraphviz                                      0.11.1     \ngreenlet                                      0.4.10     \ngrpcio                                        1.23.0     \ngym                                           0.12.5     \nh5py                                          2.7.1      \nHeapDict                                      1.0.0      \nholoviews                                     1.8.3      \nhyperlink                                     19.0.0     \nidna                                          2.8        \nimageio                                       2.5.0      \nimagesize                                     0.7.1      \nincremental                                   17.5.0     \nipykernel                                     4.7.0      \nipython                                       6.2.1      \nipython-genutils                              0.1.0      \nipywidgets                                    7.2.1      \nisodate                                       0.6.0      \nitsdangerous                                  0.24       \njdcal                                         1.2        \njedi                                          0.11.0     \nJinja2                                        2.8        \njmespath                                      0.9.4      \njsonschema                                    2.5.1      \njupyter                                       1.0.0      \njupyter-client                                5.1.0      \njupyter-console                               5.0.0      \njupyter-core                                  4.4.0      \nkafka-python                                  1.4.6      \nkazoo                                         2.5.0      \nKeras                                         2.0.8      \nklein                                         19.6.0     \nlazy-object-proxy                             1.2.1      \nline-profiler                                 2.1.2      \nllvmlite                                      0.13.0     \nlocket                                        0.2.0      \nlockfile                                      0.12.2     \nluigi                                         2.8.8      \nlxml                                          3.6.4      \nMarkupSafe                                    0.23       \nmatplotlib                                    2.1.1      \nmemory-profiler                               0.55.0     \nmistune                                       0.7.3      \nmpmath                                        0.19       \nmsgpack-python                                0.4.8      \nmsrest                                        0.6.10     \nmultipledispatch                              0.4.8      \nnatsort                                       5.1.0      \nnb-anacondacloud                              1.2.0      \nnb-conda                                      2.0.0      \nnb-conda-kernels                              2.0.0      \nnbconvert                                     4.2.0      \nnbformat                                      4.2.0      \nnbpresent                                     3.0.2      \nnetworkx                                      2.3        \nnltk                                          3.2.1      \nnose                                          1.3.7      \nnotebook                                      5.0.0      \nnumba                                         0.28.1     \nnumexpr                                       2.6.2      \nnumpy                                         1.17.0     \noauthlib                                      3.1.0      \nodo                                           0.5.0      \nolefile                                       0.44       \nopenfst                                       1.6.1      \nopenpyxl                                      2.3.2      \npandas                                        0.19.2     \npandasql                                      0.7.3      \nparam                                         1.5.1      \nparso                                         0.1.1      \npartd                                         0.3.6      \npath.py                                       0.0.0      \npathlib2                                      2.1.0      \npatsy                                         0.4.1      \npep8                                          1.7.0      \npexpect                                       4.0.1      \nphonenumbers                                  8.10.17    \npickleshare                                   0.7.4      \nPillow                                        4.3.0      \npip                                           19.2.2     \npkginfo                                       1.3.2      \nplotly                                        4.1.0      \nply                                           3.9        \nprettypandas                                  0.0.4      \nprompt-toolkit                                1.0.15     \n",
          "name": "stdout"
        },
        {
          "output_type": "stream",
          "text": "protobuf                                      3.4.1      \npsutil                                        4.3.1      \npsycopg2                                      2.7.1      \nptyprocess                                    0.5.1      \npy                                            1.4.31     \npyang                                         2.0.1      \npyasn1                                        0.1.9      \npyasn1-modules                                0.2.6      \npycosat                                       0.6.1      \npycparser                                     2.14       \npycrypto                                      2.6.1      \npycurl                                        7.43.0     \npydot                                         1.4.1      \npyflakes                                      1.3.0      \nPyGithub                                      1.43.8     \npyglet                                        1.4.2      \nPygments                                      2.1.3      \nPyHamcrest                                    1.9.0      \nPyJWT                                         1.7.1      \npykafka                                       2.8.0      \npylint                                        1.5.4      \npymc                                          2.3.6      \npymc3                                         3.7        \npymongo                                       3.4.0      \nPympler                                       0.7        \npymssql                                       2.1.1      \nPyMySQL                                       0.7.9      \npyodbc                                        4.0.17     \npyOpenSSL                                     17.2.0     \npypachy                                       0.1.5      \npyparsing                                     2.1.4      \npyprof2calltree                               1.4.4      \npytest                                        2.9.2      \npython-daemon                                 2.1.2      \npython-dateutil                               2.8.0      \npytz                                          2016.6.1   \nPyWavelets                                    1.0.3      \nPyYAML                                        3.13       \npyzmq                                         15.4.0     \nQtAwesome                                     0.3.3      \nqtconsole                                     4.2.1      \nQtPy                                          1.1.2      \nreadline                                      6.2.4.1    \nredis                                         2.10.5     \nrequests                                      2.22.0     \nrequests-oauthlib                             1.2.0      \nretrying                                      1.3.3      \nrope-py3k                                     0.9.4.post1\nrpy2                                          3.0.5      \nruamel-yaml                                   0.11.14    \ns3transfer                                    0.1.13     \nscikit-bio                                    0.5.1      \nscikit-image                                  0.15.0     \nscikit-learn                                  0.19.1     \nscipy                                         1.1.0      \nscrubadub                                     1.2.0      \nseaborn                                       0.8        \nservice-identity                              18.1.0     \nsetuptools                                    41.1.0     \nsimplegeneric                                 0.8.1      \nsingledispatch                                3.4.0.3    \nsix                                           1.11.0     \nsklearn                                       0.0        \nsnakeviz                                      2.0.1      \nsnowballstemmer                               1.2.1      \nsockjs-tornado                                1.0.3      \nSphinx                                        1.4.6      \nspyder                                        3.0.0      \nSQLAlchemy                                    1.0.13     \nstatsmodels                                   0.8.0      \nsympy                                         1.0        \ntables                                        3.4.2      \ntabulate                                      0.8.3      \ntensorflow                                    1.1.0      \nterminado                                     0.6        \ntextblob                                      0.10.0     \nTheano                                        1.0.4      \ntoolz                                         0.8.0      \ntorch                                         0.4.1      \ntorchvision                                   0.2.1      \ntornado                                       4.4.1      \ntqdm                                          4.34.0     \ntraitlets                                     4.3.1      \ntraittypes                                    0.2.1      \ntreq                                          18.6.0     \nTubes                                         0.2.0      \nTwisted                                       19.7.0     \ntyping                                        3.7.4      \nunicodecsv                                    0.14.1     \nupdate-checker                                0.16       \nurllib3                                       1.25.3     \nwcwidth                                       0.1.7      \nwebsocket-client                              0.56.0     \nWerkzeug                                      0.11.11    \nwget                                          2.2        \nwheel                                         0.29.0     \nwidgetsnbextension                            3.2.0      \nword2vec                                      0.10.2     \nwrapt                                         1.10.6     \nxlrd                                          1.0.0      \nXlsxWriter                                    0.9.3      \nxlwt                                          1.1.2      \nzope.interface                                4.6.0      \n\u001b[33mWARNING: You are using pip version 19.2.2, however version 19.3.1 is available.\nYou should consider upgrading via the 'pip install --upgrade pip' command.\u001b[0m\n",
          "name": "stdout"
        }
      ]
    },
    {
      "metadata": {
        "trusted": true
      },
      "cell_type": "code",
      "source": "!pip install azure.cognitiveservices.vision.computervision\n\nfrom azure.cognitiveservices.vision.computervision import ComputerVisionClient\n",
      "execution_count": 2,
      "outputs": [
        {
          "output_type": "stream",
          "text": "Collecting azure.cognitiveservices.vision.computervision\n  Downloading https://files.pythonhosted.org/packages/55/d8/f61816761877cdd9c0e1e2274914946e67b3a07dd59bda37636badcedba1/azure_cognitiveservices_vision_computervision-0.5.0-py2.py3-none-any.whl\nCollecting msrest>=0.5.0 (from azure.cognitiveservices.vision.computervision)\n\u001b[?25l  Downloading https://files.pythonhosted.org/packages/27/b0/c34b3ea9b2ed74b800520fbefb312cdb7f05c20b8bd42e5e7662a5614f98/msrest-0.6.10-py2.py3-none-any.whl (82kB)\n\u001b[K     |████████████████████████████████| 92kB 1.7MB/s eta 0:00:01\n\u001b[?25hRequirement already satisfied: azure-common~=1.1 in /home/nbuser/anaconda3_420/lib/python3.5/site-packages (from azure.cognitiveservices.vision.computervision) (1.1.23)\nCollecting requests-oauthlib>=0.5.0 (from msrest>=0.5.0->azure.cognitiveservices.vision.computervision)\n  Downloading https://files.pythonhosted.org/packages/c2/e2/9fd03d55ffb70fe51f587f20bcf407a6927eb121de86928b34d162f0b1ac/requests_oauthlib-1.2.0-py2.py3-none-any.whl\nCollecting requests~=2.16 (from msrest>=0.5.0->azure.cognitiveservices.vision.computervision)\n  Using cached https://files.pythonhosted.org/packages/51/bd/23c926cd341ea6b7dd0b2a00aba99ae0f828be89d72b2190f27c11d4b7fb/requests-2.22.0-py2.py3-none-any.whl\nCollecting isodate>=0.6.0 (from msrest>=0.5.0->azure.cognitiveservices.vision.computervision)\n\u001b[?25l  Downloading https://files.pythonhosted.org/packages/9b/9f/b36f7774ff5ea8e428fdcfc4bb332c39ee5b9362ddd3d40d9516a55221b2/isodate-0.6.0-py2.py3-none-any.whl (45kB)\n\u001b[K     |████████████████████████████████| 51kB 2.1MB/s eta 0:00:011\n\u001b[?25hCollecting certifi>=2017.4.17 (from msrest>=0.5.0->azure.cognitiveservices.vision.computervision)\n\u001b[?25l  Downloading https://files.pythonhosted.org/packages/18/b0/8146a4f8dd402f60744fa380bc73ca47303cccf8b9190fd16a827281eac2/certifi-2019.9.11-py2.py3-none-any.whl (154kB)\n\u001b[K     |████████████████████████████████| 163kB 5.3MB/s eta 0:00:01\n\u001b[?25hCollecting oauthlib>=3.0.0 (from requests-oauthlib>=0.5.0->msrest>=0.5.0->azure.cognitiveservices.vision.computervision)\n\u001b[?25l  Downloading https://files.pythonhosted.org/packages/05/57/ce2e7a8fa7c0afb54a0581b14a65b56e62b5759dbc98e80627142b8a3704/oauthlib-3.1.0-py2.py3-none-any.whl (147kB)\n\u001b[K     |████████████████████████████████| 153kB 4.9MB/s eta 0:00:01\n\u001b[?25hCollecting chardet<3.1.0,>=3.0.2 (from requests~=2.16->msrest>=0.5.0->azure.cognitiveservices.vision.computervision)\n  Using cached https://files.pythonhosted.org/packages/bc/a9/01ffebfb562e4274b6487b4bb1ddec7ca55ec7510b22e4c51f14098443b8/chardet-3.0.4-py2.py3-none-any.whl\nRequirement already satisfied: idna<2.9,>=2.5 in /home/nbuser/anaconda3_420/lib/python3.5/site-packages (from requests~=2.16->msrest>=0.5.0->azure.cognitiveservices.vision.computervision) (2.8)\nRequirement already satisfied: urllib3!=1.25.0,!=1.25.1,<1.26,>=1.21.1 in /home/nbuser/anaconda3_420/lib/python3.5/site-packages (from requests~=2.16->msrest>=0.5.0->azure.cognitiveservices.vision.computervision) (1.25.3)\nRequirement already satisfied: six in /home/nbuser/anaconda3_420/lib/python3.5/site-packages (from isodate>=0.6.0->msrest>=0.5.0->azure.cognitiveservices.vision.computervision) (1.11.0)\nInstalling collected packages: chardet, certifi, requests, oauthlib, requests-oauthlib, isodate, msrest, azure.cognitiveservices.vision.computervision\n  Found existing installation: requests 2.14.2\n    Uninstalling requests-2.14.2:\n      Successfully uninstalled requests-2.14.2\nSuccessfully installed azure.cognitiveservices.vision.computervision certifi-2019.9.11 chardet-3.0.4 isodate-0.6.0 msrest-0.6.10 oauthlib-3.1.0 requests-2.22.0 requests-oauthlib-1.2.0\n\u001b[33mWARNING: You are using pip version 19.2.2, however version 19.3.1 is available.\nYou should consider upgrading via the 'pip install --upgrade pip' command.\u001b[0m\n",
          "name": "stdout"
        }
      ]
    },
    {
      "metadata": {
        "trusted": true
      },
      "cell_type": "code",
      "source": "dir(ComputerVisionClient)",
      "execution_count": 5,
      "outputs": [
        {
          "output_type": "execute_result",
          "execution_count": 5,
          "data": {
            "text/plain": "['__class__',\n '__delattr__',\n '__dict__',\n '__dir__',\n '__doc__',\n '__enter__',\n '__eq__',\n '__exit__',\n '__format__',\n '__ge__',\n '__getattribute__',\n '__gt__',\n '__hash__',\n '__init__',\n '__le__',\n '__lt__',\n '__module__',\n '__ne__',\n '__new__',\n '__reduce__',\n '__reduce_ex__',\n '__repr__',\n '__setattr__',\n '__sizeof__',\n '__str__',\n '__subclasshook__',\n '__weakref__',\n 'analyze_image',\n 'analyze_image_by_domain',\n 'analyze_image_by_domain_in_stream',\n 'analyze_image_in_stream',\n 'batch_read_file',\n 'batch_read_file_in_stream',\n 'close',\n 'describe_image',\n 'describe_image_in_stream',\n 'detect_objects',\n 'detect_objects_in_stream',\n 'generate_thumbnail',\n 'generate_thumbnail_in_stream',\n 'get_area_of_interest',\n 'get_area_of_interest_in_stream',\n 'get_read_operation_result',\n 'get_text_operation_result',\n 'list_models',\n 'recognize_printed_text',\n 'recognize_printed_text_in_stream',\n 'recognize_text',\n 'recognize_text_in_stream',\n 'tag_image',\n 'tag_image_in_stream']"
          },
          "metadata": {}
        }
      ]
    },
    {
      "metadata": {
        "trusted": true
      },
      "cell_type": "code",
      "source": "import sys\nsys.path.append(sys.executable)",
      "execution_count": 7,
      "outputs": []
    },
    {
      "metadata": {
        "trusted": true
      },
      "cell_type": "code",
      "source": "from azure.cognitiveservices.vision.customvision.training import CustomVisionTrainingClient",
      "execution_count": 8,
      "outputs": [
        {
          "output_type": "error",
          "ename": "ImportError",
          "evalue": "No module named 'azure.cognitiveservices.vision.customvision'",
          "traceback": [
            "\u001b[0;31m---------------------------------------------------------------------------\u001b[0m",
            "\u001b[0;31mImportError\u001b[0m                               Traceback (most recent call last)",
            "\u001b[0;32m<ipython-input-8-d1bb348a3f16>\u001b[0m in \u001b[0;36m<module>\u001b[0;34m()\u001b[0m\n\u001b[0;32m----> 1\u001b[0;31m \u001b[0;32mfrom\u001b[0m \u001b[0mazure\u001b[0m\u001b[0;34m.\u001b[0m\u001b[0mcognitiveservices\u001b[0m\u001b[0;34m.\u001b[0m\u001b[0mvision\u001b[0m\u001b[0;34m.\u001b[0m\u001b[0mcustomvision\u001b[0m\u001b[0;34m.\u001b[0m\u001b[0mtraining\u001b[0m \u001b[0;32mimport\u001b[0m \u001b[0mCustomVisionTrainingClient\u001b[0m\u001b[0;34m\u001b[0m\u001b[0m\n\u001b[0m",
            "\u001b[0;31mImportError\u001b[0m: No module named 'azure.cognitiveservices.vision.customvision'"
          ]
        }
      ]
    },
    {
      "metadata": {
        "trusted": true
      },
      "cell_type": "code",
      "source": "!conda source activate",
      "execution_count": 11,
      "outputs": [
        {
          "output_type": "stream",
          "text": "usage: conda [-h] [-V] command ...\r\nconda: error: argument command: invalid choice: '/home/nbuser/anaconda3_420/bin/conda' (choose from 'info', 'help', 'list', 'search', 'create', 'install', 'update', 'upgrade', 'remove', 'uninstall', 'config', 'clean', 'package')\r\n",
          "name": "stdout"
        }
      ]
    },
    {
      "metadata": {
        "trusted": true
      },
      "cell_type": "code",
      "source": "!pip debug",
      "execution_count": 17,
      "outputs": [
        {
          "output_type": "stream",
          "text": "\u001b[33mWARNING: This command is only meant for debugging. Do not use this with automation for parsing and getting these details, since the output and options of this command may change without notice.\u001b[0m\r\npip version: pip 19.2.2 from /home/nbuser/anaconda3_420/lib/python3.5/site-packages/pip (python 3.5)\r\nsys.version: 3.5.4 |Anaconda custom (64-bit)| (default, Oct 13 2017, 11:22:58) \r\n[GCC 7.2.0]\r\nsys.executable: /home/nbuser/anaconda3_420/bin/python\r\nsys.getdefaultencoding: utf-8\r\nsys.getfilesystemencoding: utf-8\r\nlocale.getpreferredencoding: UTF-8\r\nsys.platform: linux\r\nsys.implementation:\r\n  name: cpython\r\nCompatible tags: 30\r\n  cp35-cp35m-manylinux2010_x86_64\r\n  cp35-cp35m-manylinux1_x86_64\r\n  cp35-cp35m-linux_x86_64\r\n  cp35-abi3-manylinux2010_x86_64\r\n  cp35-abi3-manylinux1_x86_64\r\n  cp35-abi3-linux_x86_64\r\n  cp35-none-manylinux2010_x86_64\r\n  cp35-none-manylinux1_x86_64\r\n  cp35-none-linux_x86_64\r\n  cp34-abi3-manylinux2010_x86_64\r\n  ...\r\n  [First 10 tags shown. Pass --verbose to show all.]\r\n",
          "name": "stdout"
        }
      ]
    },
    {
      "metadata": {
        "trusted": true
      },
      "cell_type": "code",
      "source": "",
      "execution_count": null,
      "outputs": []
    }
  ],
  "metadata": {
    "kernelspec": {
      "name": "python3",
      "display_name": "Python 3",
      "language": "python"
    },
    "nbTranslate": {
      "hotkey": "alt-t",
      "sourceLang": "en",
      "targetLang": "fr",
      "displayLangs": [
        "*"
      ],
      "langInMainMenu": true,
      "useGoogleTranslate": true
    },
    "varInspector": {
      "window_display": false,
      "cols": {
        "lenName": 16,
        "lenType": 16,
        "lenVar": 40
      },
      "kernels_config": {
        "python": {
          "library": "var_list.py",
          "delete_cmd_prefix": "del ",
          "delete_cmd_postfix": "",
          "varRefreshCmd": "print(var_dic_list())"
        },
        "r": {
          "library": "var_list.r",
          "delete_cmd_prefix": "rm(",
          "delete_cmd_postfix": ") ",
          "varRefreshCmd": "cat(var_dic_list()) "
        }
      },
      "types_to_exclude": [
        "module",
        "function",
        "builtin_function_or_method",
        "instance",
        "_Feature"
      ]
    },
    "language_info": {
      "mimetype": "text/x-python",
      "nbconvert_exporter": "python",
      "name": "python",
      "file_extension": ".py",
      "version": "3.5.4",
      "pygments_lexer": "ipython3",
      "codemirror_mode": {
        "version": 3,
        "name": "ipython"
      }
    }
  },
  "nbformat": 4,
  "nbformat_minor": 1
}